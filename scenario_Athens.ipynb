{
 "cells": [
  {
   "cell_type": "markdown",
   "id": "d8194b31-216e-4238-93c7-b18fc6bf28a2",
   "metadata": {},
   "source": [
    "# Import package and Psafechoices tools\n",
    "To install the PsafeChoices package (ONLY) please type:\n",
    "```bash\n",
    "pip install git+https://github.com/panosgjuras/Perceived_safety_choices\n",
    "```"
   ]
  },
  {
   "cell_type": "code",
   "execution_count": 29,
   "id": "d8cf24b4-8d69-4048-a331-9653a5ff44e5",
   "metadata": {},
   "outputs": [
    {
     "ename": "FileNotFoundError",
     "evalue": "[Errno 2] No such file or directory: 'https://github.com/panosgjuras/Perceived_safety_choices/tree/main/Psafechoices'",
     "output_type": "error",
     "traceback": [
      "\u001b[0;31m---------------------------------------------------------------------------\u001b[0m",
      "\u001b[0;31mFileNotFoundError\u001b[0m                         Traceback (most recent call last)",
      "\u001b[0;32m/var/folders/g5/6xpn96g96sd9846nlsmm06_00000gn/T/ipykernel_24714/3387204591.py\u001b[0m in \u001b[0;36m<module>\u001b[0;34m\u001b[0m\n\u001b[1;32m      6\u001b[0m \u001b[0;32mimport\u001b[0m \u001b[0mgeopandas\u001b[0m \u001b[0;32mas\u001b[0m \u001b[0mgpd\u001b[0m\u001b[0;34m\u001b[0m\u001b[0;34m\u001b[0m\u001b[0m\n\u001b[1;32m      7\u001b[0m \u001b[0;34m\u001b[0m\u001b[0m\n\u001b[0;32m----> 8\u001b[0;31m \u001b[0mos\u001b[0m\u001b[0;34m.\u001b[0m\u001b[0mchdir\u001b[0m\u001b[0;34m(\u001b[0m\u001b[0mpackage_url\u001b[0m\u001b[0;34m)\u001b[0m\u001b[0;34m\u001b[0m\u001b[0;34m\u001b[0m\u001b[0m\n\u001b[0m\u001b[1;32m      9\u001b[0m \u001b[0;32mfrom\u001b[0m \u001b[0mcalc\u001b[0m \u001b[0;32mimport\u001b[0m \u001b[0minf_match\u001b[0m\u001b[0;34m\u001b[0m\u001b[0;34m\u001b[0m\u001b[0m\n",
      "\u001b[0;31mFileNotFoundError\u001b[0m: [Errno 2] No such file or directory: 'https://github.com/panosgjuras/Perceived_safety_choices/tree/main/Psafechoices'"
     ]
    }
   ],
   "source": [
    "# 1. Import package and Psafechoices tool\n",
    "package_url = \"https://github.com/panosgjuras/Perceived_safety_choices/tree/main/Psafechoices\"\n",
    "\n",
    "import os\n",
    "import pandas as pd\n",
    "import geopandas as gpd\n",
    "\n",
    "os.chdir(package_url)\n",
    "from calc import inf_match "
   ]
  },
  {
   "cell_type": "code",
   "execution_count": 46,
   "id": "c9610bdc-f170-404b-9da5-721023860bde",
   "metadata": {},
   "outputs": [
    {
     "ename": "NameError",
     "evalue": "name 'shp_file_pathn' is not defined",
     "output_type": "error",
     "traceback": [
      "\u001b[0;31m---------------------------------------------------------------------------\u001b[0m",
      "\u001b[0;31mNameError\u001b[0m                                 Traceback (most recent call last)",
      "\u001b[0;32m/var/folders/g5/6xpn96g96sd9846nlsmm06_00000gn/T/ipykernel_23948/3347932530.py\u001b[0m in \u001b[0;36m<module>\u001b[0;34m\u001b[0m\n\u001b[0;32m----> 1\u001b[0;31m \u001b[0mshp_file_pathn\u001b[0m\u001b[0;34m\u001b[0m\u001b[0;34m\u001b[0m\u001b[0m\n\u001b[0m",
      "\u001b[0;31mNameError\u001b[0m: name 'shp_file_pathn' is not defined"
     ]
    }
   ],
   "source": [
    "shp_file_pathn"
   ]
  },
  {
   "cell_type": "code",
   "execution_count": 4,
   "id": "6d8cfe2b-8b88-49b7-b2ee-73b615c025d3",
   "metadata": {},
   "outputs": [
    {
     "name": "stdout",
     "output_type": "stream",
     "text": [
      "/Users/panosgtzouras/Desktop/github_tzouras/Perceived_safety_choices\n"
     ]
    }
   ],
   "source": [
    "print(root_dir)"
   ]
  },
  {
   "cell_type": "code",
   "execution_count": 27,
   "id": "91aa5af5-0e78-4385-9882-732003842cb1",
   "metadata": {},
   "outputs": [
    {
     "data": {
      "text/plain": [
       "'https://github.com/panosgjuras/Perceived_safety_choices/tree/main/scenario_athens/shp'"
      ]
     },
     "execution_count": 27,
     "metadata": {},
     "output_type": "execute_result"
    }
   ],
   "source": [
    "scenario_athens_url = \"https://github.com/panosgjuras/Perceived_safety_choices/tree/main/scenario_athens\"\n",
    "os.path.join(scenario_athens_url, 'shp')"
   ]
  },
  {
   "cell_type": "code",
   "execution_count": null,
   "id": "161bcba0-3b3e-48b5-98d5-d70b39c59d24",
   "metadata": {},
   "outputs": [],
   "source": []
  },
  {
   "cell_type": "code",
   "execution_count": null,
   "id": "672d8b4f-45ab-4d80-963c-949e8f7a22e0",
   "metadata": {},
   "outputs": [],
   "source": []
  }
 ],
 "metadata": {
  "kernelspec": {
   "display_name": "Python [conda env:base] *",
   "language": "python",
   "name": "conda-base-py"
  },
  "language_info": {
   "codemirror_mode": {
    "name": "ipython",
    "version": 3
   },
   "file_extension": ".py",
   "mimetype": "text/x-python",
   "name": "python",
   "nbconvert_exporter": "python",
   "pygments_lexer": "ipython3",
   "version": "3.9.19"
  }
 },
 "nbformat": 4,
 "nbformat_minor": 5
}
