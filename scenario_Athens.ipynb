{
 "cells": [
  {
   "cell_type": "code",
   "execution_count": null,
   "id": "a2c3fffc-3f5c-4ecd-bf33-900794771d80",
   "metadata": {},
   "outputs": [],
   "source": [
    "import pandas as pd\n",
    "import copy\n",
    "import os\n",
    "import geopandas as gpd\n",
    "\n",
    "os.chdir(\"\") # ADD THE PATH WITH THE PSAFECHOICE PACKAGE"
   ]
  },
  {
   "cell_type": "markdown",
   "id": "deba2169-23f2-44e2-ac34-da3cdd0c2a60",
   "metadata": {},
   "source": [
    "# Import the shp with the road links\n",
    "The shp MUST contain the columns: inf, pav, obst and cross. There are specific attributes for these columns.\n",
    "\n",
    "The infrastructure type (inf) should be in string format. The main categories are:\n",
    "- \"1: Urban road with sidewalk less than 1.5 m wide\"\n",
    "- \"2: Urban road with sidewalk more than 1.5 m wide\"\n",
    "- \"3: Urban road with cycle lane\"\n",
    "- \"4: Shared space\"\n",
    "\n",
    "The pavement condition (pav) should be in string format. The main categories are:\n",
    "- \"0: bad condition\"\n",
    "- \"1: good condition\"\n",
    "\n",
    "The obstacles existnse (obst) should be in string format. The main categories are:\n",
    "- \"0: yes obstacles\"\n",
    "- \"1: no obstacles'\n",
    "\n",
    "The \"zebra\" pedestrian crossing type and existense should be in string format. The main categories are:\n",
    "- \"0: without pedestrian crossings\"\n",
    "- \"1: with pedestrian crossings not controlled by traffic lights\"\n",
    "- \"2: with pedestrian crossing controlled by traffic lights\""
   ]
  },
  {
   "cell_type": "code",
   "execution_count": null,
   "id": "40e66196-f56a-49fc-92b3-baaad239553e",
   "metadata": {},
   "outputs": [],
   "source": [
    "scenario_athens_url = \"\" # ADD THE PATH\n",
    "\n",
    "links =  gpd.read_file(os.path.join(scenario_athens_url,\"baseNetworkAthensLinks_v1.shp\"))\n",
    "# links = links.dropna(subset=['inf', 'pav', 'obst', 'cross'])\n",
    "print(links.columns) # check if the columns are present.\n",
    "check_cols = ['inf', 'pav', 'obst', 'cross']\n",
    "for c in check_cols: print(links.groupby(c).size()) # check if the have the previously specified catagories.\n",
    "# It also provides descriptive statistics about the infrastructure."
   ]
  },
  {
   "cell_type": "markdown",
   "id": "a7a1d745-65d1-433f-801f-2d97f5352dce",
   "metadata": {},
   "source": [
    "The estimation of perceived safety score is performed based on the PsafeChoices packages.\n",
    "To install the PsafeChoices package (ONLY) please type:\n",
    "```bash\n",
    "pip install git+https://github.com/panosgjuras/Perceived_safety_choices\n",
    "```"
   ]
  },
  {
   "cell_type": "markdown",
   "id": "1f2d4380-da98-4f9d-aa08-7cf91b5866c8",
   "metadata": {},
   "source": [
    "# Import the perceived safety model\n",
    "\n",
    "The perceived safety model contains beta parameters and kappa thresholds.\n",
    "\n",
    "If there is a constant, it should be eliminated. Practically, it is is the kappa.0 of the model. This update is required if the Rchoice \n",
    "package is used to estimate it.\n",
    "\n",
    "Please check the output table, next functions require this standardized format."
   ]
  },
  {
   "cell_type": "code",
   "execution_count": null,
   "id": "c86b1df1-f115-43ae-a19d-6a4a284b26eb",
   "metadata": {},
   "outputs": [],
   "source": [
    "from calc import coeffUpd # ADD THE PATH\n",
    "models_path = \"\"\n",
    "cf = pd.read_csv(os.path.join(models_path,'psafe','simple_psafe_models.csv'))\n",
    "cf = cf.rename(columns={'Unnamed: 0': 'coeffs'})\n",
    "cf = cf.set_index('coeffs')\n",
    "cf = coeffUpd(cf) # Please check all the coefficients\n",
    "cf"
   ]
  },
  {
   "cell_type": "markdown",
   "id": "d8194b31-216e-4238-93c7-b18fc6bf28a2",
   "metadata": {},
   "source": [
    "# Estimation of perceived safety scores\n",
    "\n",
    "Perceived safety scores (f'LevPsafe{m}') are estimated per link and transport mode.\n",
    "\n",
    "This requires the calculation of a Latent Variable (f'LatPsafe{m}') first.\n",
    "\n",
    "The results are saved in the geoDataframe"
   ]
  },
  {
   "cell_type": "code",
   "execution_count": null,
   "id": "90d7b7fd-1600-44ce-adcd-e19bdf095021",
   "metadata": {
    "scrolled": true
   },
   "outputs": [],
   "source": [
    "from calc import processRowEst\n",
    "\n",
    "# define transport modes for which perceived safety will be estimated\n",
    "modes = ['car', 'ebike', 'escoot', 'walk']\n",
    "\n",
    "for m in modes:\n",
    "    latent_vars = []\n",
    "    safety_levels = []\n",
    "    \n",
    "    # Iterate through each row of the GeoDataFrame using iterrows()\n",
    "    for index, row in links.iterrows():        \n",
    "        latent_vars.append(processRowEst(index, row, modes, cf)[f'LatPsafe{m}'])\n",
    "        safety_levels.append(processRowEst(index, row, modes, cf)[f'LevPsafe{m}'])\n",
    "\n",
    "    links[f'LatPsafe{m}'] = latent_vars\n",
    "    links[f'LevPsafe{m}'] = safety_levels"
   ]
  },
  {
   "cell_type": "markdown",
   "id": "093dd24e-37f0-4fd1-9477-a87ebcdca99d",
   "metadata": {},
   "source": [
    "# Create a perceived safety score map per transport mode\n",
    "\n",
    "As the plotting functions, do some modifications in the original dataframe, please use deepcopy."
   ]
  },
  {
   "cell_type": "code",
   "execution_count": null,
   "id": "dd594e53-d19a-49f9-9e7f-f03540d27682",
   "metadata": {
    "scrolled": true
   },
   "outputs": [],
   "source": [
    "from mapAnalysis import plotPsafeLev\n",
    "\n",
    "for m in modes: plotPsafeLev(copy.deepcopy(links), m)"
   ]
  },
  {
   "cell_type": "markdown",
   "id": "a1e18e58-6683-4cd2-af5a-96ad330edb8a",
   "metadata": {},
   "source": [
    "# Estimate the kernel density of safe links per transport mode\n",
    "\n",
    "In this process, the mid point of each link is defined. So, the KDE is performed based on mid points of links.\n",
    "\n",
    "As the plotting functions, do some modifications in the original dataframe, please use deepcopy."
   ]
  },
  {
   "cell_type": "code",
   "execution_count": null,
   "id": "bc3f54f3-cfd0-4f58-9b7f-2a339f8e6a91",
   "metadata": {
    "scrolled": true
   },
   "outputs": [],
   "source": [
    "from mapAnalysis import PsafeHeatmaps\n",
    "\n",
    "for m in modes: PsafeHeatmaps(copy.deepcopy(links), m)"
   ]
  }
 ],
 "metadata": {
  "kernelspec": {
   "display_name": "Python [conda env:base] *",
   "language": "python",
   "name": "conda-base-py"
  },
  "language_info": {
   "codemirror_mode": {
    "name": "ipython",
    "version": 3
   },
   "file_extension": ".py",
   "mimetype": "text/x-python",
   "name": "python",
   "nbconvert_exporter": "python",
   "pygments_lexer": "ipython3",
   "version": "3.9.19"
  }
 },
 "nbformat": 4,
 "nbformat_minor": 5
}
